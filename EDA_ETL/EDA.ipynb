{
 "cells": [
  {
   "attachments": {},
   "cell_type": "markdown",
   "metadata": {},
   "source": [
    "# EDA\n",
    "\n",
    "---\n",
    "\n",
    "### <span style=\"color: #007ACC;\">1. Business Problem:</span>\n",
    "\n",
    "- I have been assigned the task of conducting an analysis of the market and underlying opportunities, of specifically **10 cryptocurrencies**.\n",
    "\n",
    "- The objective of this analysis is to guide the company in the **possibilities of growth** in the area of cryptocurrencies.\n",
    "\n",
    "- It will be necessary to collect **key data** on market trends, competition between them and current regulations in the sector. Based on this information, I will be able to carry out a **comprehensive analysis** that allows me to identify patterns, trends, and opportunities that help the company make **informed strategic decisions**.\n",
    "\n",
    "- My ultimate goal is to provide the company with **solid recommendations** based on market evidence to **increase its services** and attract new customers.\n"
   ]
  },
  {
   "attachments": {},
   "cell_type": "markdown",
   "metadata": {},
   "source": [
    "### <span style=\"color: #007ACC;\">2.1 Description of Dataset Fields:</span>\n",
    "\n",
    "---\n",
    "\n",
    "In this section, a detailed description of the **fields present** in the relevant datasets will be provided. This will aid in better understanding the **data** and its **structure**.\n",
    "\n",
    "##### <span style=\"color: #4286F4;\">Crypto_data_general.csv</span>\n",
    "\n",
    "The `Crypto_data_general.csv` file contains **general information** about various **cryptocurrencies**. The **main fields** included are:\n",
    "\n",
    "1. <span style=\"color: #66A9FF;\">**Year:**</span> Year when the data was recorded.\n",
    "2. <span style=\"color: #66A9FF;\">**Cryptocurrency:**</span> Name of the cryptocurrency.\n",
    "3. <span style=\"color: #66A9FF;\">**Timestamp:**</span> Timestamp of the data entry.\n",
    "4. <span style=\"color: #66A9FF;\">**Price:**</span> Current price of the cryptocurrency.\n",
    "5. <span style=\"color: #66A9FF;\">**Market_Cap_Rank:**</span> Ranking of the cryptocurrency based on market capitalization.\n",
    "6. <span style=\"color: #66A9FF;\">**Total_Volume:**</span> Total trading volume of the cryptocurrency.\n",
    "7. <span style=\"color: #66A9FF;\">**Circulating_Supply:**</span> Amount of cryptocurrency in circulation.\n",
    "8. <span style=\"color: #66A9FF;\">**Max_Supply:**</span> Maximum supply limit of the cryptocurrency.\n",
    "9. <span style=\"color: #66A9FF;\">**All_Time_High:**</span> Highest recorded price of the cryptocurrency.\n",
    "\n",
    "<br>\n",
    "\n",
    "#### <span style=\"color: #4286F4;\">Crypto_emerging_data_with_time</span>\n",
    "\n",
    "The `Crypto_emerging_data_with_time.csv` file contains **general information** about various **cryptocurrencies**. The **main fields** included are:\n",
    "\n",
    "1. <span style=\"color: #66A9FF;\">**Timestamp:**</span> The date and time when the data entry was recorded.\n",
    "2. <span style=\"color: #66A9FF;\">**Cryptocurrency:**</span> The name of the cryptocurrency.\n",
    "3. <span style=\"color: #66A9FF;\">**Symbol:**</span> The symbol representing the cryptocurrency.\n",
    "4. <span style=\"color: #66A9FF;\">**Description:**</span> A brief description of the cryptocurrency.\n",
    "5. <span style=\"color: #66A9FF;\">**Current_Rank:**</span> The current rank of the cryptocurrency in the market.\n",
    "6. <span style=\"color: #66A9FF;\">**Market_Cap_Rank:**</span> The ranking of the cryptocurrency based on its market capitalization.\n",
    "7. <span style=\"color: #66A9FF;\">**Current_Price:**</span> The current price of the cryptocurrency.\n",
    "8. <span style=\"color: #66A9FF;\">**Market_Cap:**</span> The total market capitalization of the cryptocurrency.\n",
    "9. <span style=\"color: #66A9FF;\">**Total_Volume:**</span> The total trading volume of the cryptocurrency.\n",
    "10. <span style=\"color: #66A9FF;\">**Circulating_Supply:**</span> The amount of cryptocurrency currently in circulation.\n",
    "11. <span style=\"color: #66A9FF;\">**Max_Supply:**</span> The maximum supply limit of the cryptocurrency.\n",
    "12. <span style=\"color: #66A9FF;\">**All_Time_High:**</span> The highest recorded price of the cryptocurrency.\n",
    "13. <span style=\"color: #66A9FF;\">**All_Time_Low:**</span> The lowest recorded price of the cryptocurrency.\n",
    "14. <span style=\"color: #66A9FF;\">**ATH_Date:**</span> The date when the all-time high price was achieved.\n"
   ]
  },
  {
   "attachments": {},
   "cell_type": "markdown",
   "metadata": {},
   "source": [
    "### <span style=\"color: #007ACC;\">3. Reading the sets:</span>\n",
    "\n",
    "---\n"
   ]
  }
 ],
 "metadata": {
  "language_info": {
   "name": "python"
  },
  "orig_nbformat": 4
 },
 "nbformat": 4,
 "nbformat_minor": 2
}
