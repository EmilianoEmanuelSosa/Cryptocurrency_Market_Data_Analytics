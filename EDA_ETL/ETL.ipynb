{
 "cells": [
  {
   "attachments": {},
   "cell_type": "markdown",
   "metadata": {},
   "source": [
    "# <span style=\"font-size: 1.5em;\">**ETL**</span>\n",
    "\n",
    "---\n"
   ]
  },
  {
   "attachments": {},
   "cell_type": "markdown",
   "metadata": {},
   "source": [
    "### **1. Data Source: [<span style=\"color:#00BFFF; text-decoration:underline;\">Api-CoinGeckoAPI</span>](https://www.coingecko.com/es/api/documentation)**\n"
   ]
  },
  {
   "attachments": {},
   "cell_type": "markdown",
   "metadata": {},
   "source": [
    "#### 1.1 First of all! 💡\n",
    "\n",
    "After a detailed description of the objective of the project in the [README](README.md), it becomes clear that the mission is to **obtain**, **transform** and **make available** a complete collection of data on these **10 cryptocurrencies**:\n",
    "\n",
    "- Solana\n",
    "- Chiliz\n",
    "- Uniswap\n",
    "- Decentraland\n",
    "- Axie Infinity\n",
    "- The Sandbox\n",
    "- Cardano\n",
    "- iota\n",
    "- Quantity\n",
    "- Chainlink\n",
    "- VeChain\n"
   ]
  },
  {
   "attachments": {},
   "cell_type": "markdown",
   "metadata": {},
   "source": [
    "### **2. Extraction**\n"
   ]
  },
  {
   "attachments": {},
   "cell_type": "markdown",
   "metadata": {},
   "source": [
    "#### 2.1 I import the necessary libraries for the entire ETL process\n"
   ]
  },
  {
   "cell_type": "code",
   "execution_count": 1,
   "metadata": {},
   "outputs": [],
   "source": [
    "# It is a library that in general is 5 times faster than pandas\n",
    "import pandas as pd\n",
    "import numpy as np\n",
    "# It is a library to make queries to the CoinGecko API in a safer and more efficient way\n",
    "from pycoingecko import CoinGeckoAPI\n",
    "import warnings\n",
    "warnings.filterwarnings('ignore')"
   ]
  },
  {
   "attachments": {},
   "cell_type": "markdown",
   "metadata": {},
   "source": [
    "#### 2.2Instancing a CoinGeckoAPI class\n"
   ]
  },
  {
   "cell_type": "code",
   "execution_count": 2,
   "metadata": {},
   "outputs": [],
   "source": [
    "cg = CoinGeckoAPI()"
   ]
  },
  {
   "attachments": {},
   "cell_type": "markdown",
   "metadata": {},
   "source": [
    "#### 2.3 I get cryptocurrency ids and symbols from CoinGeckoAPI data\n"
   ]
  },
  {
   "cell_type": "code",
   "execution_count": 3,
   "metadata": {},
   "outputs": [],
   "source": [
    "#Utilizo el endpoint de 'coins/list'\n",
    "coins=cg.get_coins_list()"
   ]
  },
  {
   "cell_type": "code",
   "execution_count": 4,
   "metadata": {},
   "outputs": [
    {
     "data": {
      "text/html": [
       "<div>\n",
       "<style scoped>\n",
       "    .dataframe tbody tr th:only-of-type {\n",
       "        vertical-align: middle;\n",
       "    }\n",
       "\n",
       "    .dataframe tbody tr th {\n",
       "        vertical-align: top;\n",
       "    }\n",
       "\n",
       "    .dataframe thead th {\n",
       "        text-align: right;\n",
       "    }\n",
       "</style>\n",
       "<table border=\"1\" class=\"dataframe\">\n",
       "  <thead>\n",
       "    <tr style=\"text-align: right;\">\n",
       "      <th></th>\n",
       "      <th>id</th>\n",
       "      <th>symbol</th>\n",
       "      <th>name</th>\n",
       "    </tr>\n",
       "  </thead>\n",
       "  <tbody>\n",
       "    <tr>\n",
       "      <th>799</th>\n",
       "      <td>axie-infinity</td>\n",
       "      <td>axs</td>\n",
       "      <td>Axie Infinity</td>\n",
       "    </tr>\n",
       "    <tr>\n",
       "      <th>1597</th>\n",
       "      <td>cardano</td>\n",
       "      <td>ada</td>\n",
       "      <td>Cardano</td>\n",
       "    </tr>\n",
       "    <tr>\n",
       "      <th>1712</th>\n",
       "      <td>chainlink</td>\n",
       "      <td>link</td>\n",
       "      <td>Chainlink</td>\n",
       "    </tr>\n",
       "    <tr>\n",
       "      <th>1782</th>\n",
       "      <td>chiliz</td>\n",
       "      <td>chz</td>\n",
       "      <td>Chiliz</td>\n",
       "    </tr>\n",
       "    <tr>\n",
       "      <th>2375</th>\n",
       "      <td>decentraland</td>\n",
       "      <td>mana</td>\n",
       "      <td>Decentraland</td>\n",
       "    </tr>\n",
       "    <tr>\n",
       "      <th>4428</th>\n",
       "      <td>iota</td>\n",
       "      <td>miota</td>\n",
       "      <td>IOTA</td>\n",
       "    </tr>\n",
       "    <tr>\n",
       "      <th>7131</th>\n",
       "      <td>quant-network</td>\n",
       "      <td>qnt</td>\n",
       "      <td>Quant</td>\n",
       "    </tr>\n",
       "    <tr>\n",
       "      <th>7955</th>\n",
       "      <td>solana</td>\n",
       "      <td>sol</td>\n",
       "      <td>Solana</td>\n",
       "    </tr>\n",
       "    <tr>\n",
       "      <th>8654</th>\n",
       "      <td>the-sandbox</td>\n",
       "      <td>sand</td>\n",
       "      <td>The Sandbox</td>\n",
       "    </tr>\n",
       "    <tr>\n",
       "      <th>9021</th>\n",
       "      <td>uniswap</td>\n",
       "      <td>uni</td>\n",
       "      <td>Uniswap</td>\n",
       "    </tr>\n",
       "  </tbody>\n",
       "</table>\n",
       "</div>"
      ],
      "text/plain": [
       "                 id symbol           name\n",
       "799   axie-infinity    axs  Axie Infinity\n",
       "1597        cardano    ada        Cardano\n",
       "1712      chainlink   link      Chainlink\n",
       "1782         chiliz    chz         Chiliz\n",
       "2375   decentraland   mana   Decentraland\n",
       "4428           iota  miota           IOTA\n",
       "7131  quant-network    qnt          Quant\n",
       "7955         solana    sol         Solana\n",
       "8654    the-sandbox   sand    The Sandbox\n",
       "9021        uniswap    uni        Uniswap"
      ]
     },
     "execution_count": 4,
     "metadata": {},
     "output_type": "execute_result"
    }
   ],
   "source": [
    "# convert to dataframe\n",
    "df_coins = pd.DataFrame(coins)\n",
    "# List of coin names to filter\n",
    "cryptocurrencies_id= ['solana', 'uniswap', 'decentraland', 'chiliz', 'axie-infinity', 'the-sandbox', 'cardano', 'quant-network', 'chainlink','iota']\n",
    "# Filter the DataFrame using the list of names\n",
    "results = df_coins[df_coins['id'].isin(cryptocurrencies_id)]\n",
    "# noticed\n",
    "results"
   ]
  },
  {
   "attachments": {},
   "cell_type": "markdown",
   "metadata": {},
   "source": [
    "#### 2.4 The general information of the 10 coins is extracted.\n"
   ]
  },
  {
   "cell_type": "code",
   "execution_count": 5,
   "metadata": {},
   "outputs": [
    {
     "name": "stdout",
     "output_type": "stream",
     "text": [
      "Getting data for solana...\n",
      "Getting data for uniswap...\n",
      "Getting data for decentraland...\n",
      "Getting data for chiliz...\n",
      "Getting data for axie-infinity...\n",
      "Getting data for the-sandbox...\n",
      "Getting data for cardano...\n",
      "Getting data for quant-network...\n",
      "Getting data for chainlink...\n",
      "Getting data for iota...\n"
     ]
    }
   ],
   "source": [
    "# Date range from 2013 to 2022 (in Unix timestamps)\n",
    "from_timestamp = 1356998400 # January 2013\n",
    "to_timestamp = 1672531199 # December 2022\n",
    "\n",
    "# Create a list to store the data\n",
    "dates = []\n",
    "\n",
    "# Iterate through each cryptocurrency\n",
    "for crypto in cryptocurrencies_id:\n",
    "     print(f\"Getting data for {crypto}...\")\n",
    "\n",
    "     # Get general information about cryptocurrency\n",
    "     crypto_info = cg.get_coin_by_id(crypto)\n",
    "\n",
    "     # Get historical data in date range\n",
    "     historical_data = cg.get_coin_market_chart_range_by_id(\n",
    "         id=crypto,\n",
    "         vs_currency='usd',\n",
    "         from_timestamp=from_timestamp,\n",
    "         to_timestamp=to_timestamp\n",
    "     )\n",
    "\n",
    "     for entry in historical_data['prices']:\n",
    "         timestamp = pd.to_datetime(entry[0], unit='ms')\n",
    "         year = timestamp.year\n",
    "\n",
    "         dates.append({\n",
    "             'Year': year,\n",
    "             'Cryptocurrency': crypto,\n",
    "             'timestamp': timestamp,\n",
    "             'Price': entry[1],\n",
    "             'Market_Cap_Rank': crypto_info['market_cap_rank'],\n",
    "             'Total_Volume': crypto_info['market_data']['total_volume']['usd'],\n",
    "             'Circulating_Supply': crypto_info['market_data']['circulating_supply'],\n",
    "             'Max_Supply': crypto_info['market_data']['max_supply'],\n",
    "             'All_Time_High': crypto_info['market_data']['ath']['usd']\n",
    "         })\n",
    "# Create a DataFrame with the collected data\n",
    "df_crypto = pd.DataFrame(dates)"
   ]
  },
  {
   "attachments": {},
   "cell_type": "markdown",
   "metadata": {},
   "source": [
    "#### 2.4 I extract more detailed information about emerging cryptocurrencies, to carry out more descriptive analysis.\n"
   ]
  },
  {
   "cell_type": "code",
   "execution_count": 6,
   "metadata": {},
   "outputs": [
    {
     "name": "stdout",
     "output_type": "stream",
     "text": [
      "Getting data for solana...\n",
      "Getting data for uniswap...\n",
      "Getting data for decentraland...\n",
      "Getting data for chiliz...\n",
      "Getting data for axie-infinity...\n",
      "Getting data for the-sandbox...\n",
      "Getting data for cardano...\n",
      "Getting data for quant-network...\n",
      "Getting data for chainlink...\n",
      "Getting data for iota...\n"
     ]
    }
   ],
   "source": [
    "# Create a list to store the data\n",
    "data_1 = []\n",
    "\n",
    "# Iterate through each cryptocurrency\n",
    "for crypto in cryptocurrencies_id:\n",
    "     print(f\"Getting data for {crypto}...\")\n",
    "\n",
    "     # Get general information about cryptocurrency\n",
    "     crypto_info = cg.get_coin_by_id(crypto)\n",
    "\n",
    "     # Get market information\n",
    "     market_data = crypto_info['market_data']\n",
    "\n",
    "     # Get historical data in date range\n",
    "     historical_data = cg.get_coin_market_chart_range_by_id(\n",
    "         id=crypto,\n",
    "         vs_currency='usd',\n",
    "         from_timestamp=from_timestamp,\n",
    "         to_timestamp=to_timestamp\n",
    "     )\n",
    "\n",
    "     for entry in historical_data['prices']:\n",
    "         timestamp = pd.to_datetime(entry[0], unit='ms')\n",
    "\n",
    "         data_1.append({\n",
    "             'timestamp': timestamp,\n",
    "             'Cryptocurrency': crypto,\n",
    "             'Symbol': crypto_info['symbol'],\n",
    "             'Description': crypto_info['description']['en'],\n",
    "             'Current_Rank': crypto_info['market_cap_rank'],\n",
    "             'Market_Cap_Rank': market_data['market_cap_rank'],\n",
    "             'Current_Price': market_data['current_price']['usd'],\n",
    "             'Market_Cap': market_data['market_cap']['usd'],\n",
    "             'Total_Volume': market_data['total_volume']['usd'],\n",
    "             'Circulating_Supply': market_data['circulating_supply'],\n",
    "             'Max_Supply': market_data['max_supply'],\n",
    "             'All_Time_High': market_data['ath']['usd'],\n",
    "             'All_Time_Low': market_data['atl']['usd'],\n",
    "             'ATH_Date': market_data['ath_date']['usd'],\n",
    "             'ATL_Date': market_data['atl_date']['usd']\n",
    "         })\n",
    "\n",
    "# Create a DataFrame with the collected data\n",
    "df_emerging_crypto = pd.DataFrame(data_1)"
   ]
  },
  {
   "attachments": {},
   "cell_type": "markdown",
   "metadata": {},
   "source": [
    "### **3. TRANSFORMS**\n"
   ]
  },
  {
   "cell_type": "code",
   "execution_count": 7,
   "metadata": {},
   "outputs": [],
   "source": [
    "# List of cryptocurrencies and their respective Max_Supply\n",
    "max_supply_values = {\n",
    "      'sunny': 500000000.0,\n",
    "      'uniswap': 1000000000.0,\n",
    "      'decentralized': 2805886393.0,\n",
    "      'chiliz': 8888888888.0,\n",
    "      'axie-infinity': 270000000.0,\n",
    "      'the sandbox': 300000000.0,\n",
    "      'cardano': 45000000000.0,\n",
    "      'quant network': 14612493.0,\n",
    "      'chain link': 1000000000.0,\n",
    "      'iota': 2779530283.0\n",
    "}\n",
    "\n",
    "# Impute missing values in Max_Supply\n",
    "for crypto_id, max_supply in max_supply_values.items():\n",
    "      mask = (df_emerging_crypto['Cryptocurrency'] == crypto_id) & df_emerging_crypto['Max_Supply'].isnull()\n",
    "      df_emerging_crypto.loc[mask, 'Max_Supply'] = max_supply\n",
    "\n",
    "# Impute missing values in Max_Supply of the other overall data frame\n",
    "for crypto_id, max_supply in max_supply_values.items():\n",
    "      mask = (df_crypto['Cryptocurrency'] == crypto_id) & df_crypto['Max_Supply'].isnull()\n",
    "      df_crypto.loc[mask, 'Max_Supply'] = max_supply\n",
    "\n",
    "\n",
    "# Convertir 'timestamp' a tipo datetime\n",
    "df_emerging_crypto['timestamp'] = pd.to_datetime(df_crypto['timestamp'])\n",
    "\n",
    "# Convertir 'timestamp' a tipo datetime\n",
    "df_crypto['timestamp'] = pd.to_datetime(df_crypto['timestamp'])"
   ]
  },
  {
   "cell_type": "code",
   "execution_count": 8,
   "metadata": {},
   "outputs": [],
   "source": [
    "# Fill missing values in the Description column with the value from the previous record\n",
    "df_emerging_crypto['Description'].fillna(method='ffill', inplace=True)"
   ]
  },
  {
   "attachments": {},
   "cell_type": "markdown",
   "metadata": {},
   "source": [
    "### **4. LOAD**\n"
   ]
  },
  {
   "cell_type": "code",
   "execution_count": 12,
   "metadata": {},
   "outputs": [],
   "source": [
    "# Guardar el DataFrame en un archivo CSV\n",
    "output_path = '../Datasets/Data_ingested/crypto_emerging_data_with_time.csv'\n",
    "df_emerging_crypto.to_csv(output_path, index=False)\n",
    "\n",
    "# Save the DataFrame to a CSV file\n",
    "df_crypto.to_csv('../Datasets/Data_ingested/crypto_data_general.csv', index=False)"
   ]
  }
 ],
 "metadata": {
  "kernelspec": {
   "display_name": "Python 3",
   "language": "python",
   "name": "python3"
  },
  "language_info": {
   "codemirror_mode": {
    "name": "ipython",
    "version": 3
   },
   "file_extension": ".py",
   "mimetype": "text/x-python",
   "name": "python",
   "nbconvert_exporter": "python",
   "pygments_lexer": "ipython3",
   "version": "3.11.3"
  },
  "orig_nbformat": 4
 },
 "nbformat": 4,
 "nbformat_minor": 2
}
