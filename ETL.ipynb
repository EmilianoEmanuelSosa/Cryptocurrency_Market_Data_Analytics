{
 "cells": [
  {
   "attachments": {},
   "cell_type": "markdown",
   "metadata": {},
   "source": [
    "# <span style=\"font-size: 1.5em;\">**ETL**</span>\n",
    "\n",
    "---\n"
   ]
  },
  {
   "attachments": {},
   "cell_type": "markdown",
   "metadata": {},
   "source": [
    "### **1. Data Source: [<span style=\"color:#00BFFF; text-decoration:underline;\">Api-CoinGeckoAPI</span>](https://www.coingecko.com/es/api/documentation)**\n"
   ]
  },
  {
   "attachments": {},
   "cell_type": "markdown",
   "metadata": {},
   "source": [
    "#### 1.1 ¡Primeramente! 💡\n",
    "\n",
    "Luego de una detallada descripción del objetivo del proyecto en el [README](README.md), queda claro que la misión es **obtener**, **transformar** y **disponibilizar** una completa recopilación de datos sobre estas **10 criptomonedas**:\n",
    "\n",
    "- Solana\n",
    "- Chiliz\n",
    "- Uniswap\n",
    "- Decentraland\n",
    "- Axie Infinity\n",
    "- The Sandbox\n",
    "- Cardano\n",
    "- Iota\n",
    "- Quant\n",
    "- Chainlink\n"
   ]
  },
  {
   "attachments": {},
   "cell_type": "markdown",
   "metadata": {},
   "source": [
    "### **2. Extraccion**\n"
   ]
  },
  {
   "attachments": {},
   "cell_type": "markdown",
   "metadata": {},
   "source": [
    "#### 2.1 Importo las librerias necesarias para todo el proceso de ETL\n"
   ]
  },
  {
   "cell_type": "code",
   "execution_count": 2,
   "metadata": {},
   "outputs": [],
   "source": [
    "# Es una libreria que en general es 5 veces mas rapidas que pandas\n",
    "import modin.pandas as pd\n",
    "import numpy as np\n",
    "# Es una libreria para hacer consultas a la API de CoinGecko de manera mas segura y eficiente\n",
    "from pycoingecko import CoinGeckoAPI\n",
    "import warnings\n",
    "warnings.filterwarnings('ignore')"
   ]
  },
  {
   "attachments": {},
   "cell_type": "markdown",
   "metadata": {},
   "source": [
    "#### 2.2Instancio una clase CoinGeckoAPI\n"
   ]
  },
  {
   "cell_type": "code",
   "execution_count": 3,
   "metadata": {},
   "outputs": [],
   "source": [
    "cg = CoinGeckoAPI()\n"
   ]
  },
  {
   "attachments": {},
   "cell_type": "markdown",
   "metadata": {},
   "source": [
    "#### 2.3 Utilizo el endpoint de 'coins/list'\n"
   ]
  },
  {
   "cell_type": "code",
   "execution_count": 5,
   "metadata": {},
   "outputs": [],
   "source": [
    "coins=cg.get_coins_list()\n"
   ]
  },
  {
   "attachments": {},
   "cell_type": "markdown",
   "metadata": {},
   "source": [
    "#### 2.4 Creo el dataframe\n"
   ]
  },
  {
   "cell_type": "code",
   "execution_count": null,
   "metadata": {},
   "outputs": [
    {
     "name": "stderr",
     "output_type": "stream",
     "text": [
      "2023-08-11 18:38:16,640\tINFO worker.py:1621 -- Started a local Ray instance.\n"
     ]
    }
   ],
   "source": [
    "df_coins = pd.DataFrame(coins)"
   ]
  },
  {
   "cell_type": "code",
   "execution_count": null,
   "metadata": {},
   "outputs": [
    {
     "data": {
      "text/html": [
       "<div>\n",
       "<style scoped>\n",
       "    .dataframe tbody tr th:only-of-type {\n",
       "        vertical-align: middle;\n",
       "    }\n",
       "\n",
       "    .dataframe tbody tr th {\n",
       "        vertical-align: top;\n",
       "    }\n",
       "\n",
       "    .dataframe thead th {\n",
       "        text-align: right;\n",
       "    }\n",
       "</style>\n",
       "<table border=\"1\" class=\"dataframe\">\n",
       "  <thead>\n",
       "    <tr style=\"text-align: right;\">\n",
       "      <th></th>\n",
       "      <th>id</th>\n",
       "      <th>symbol</th>\n",
       "      <th>name</th>\n",
       "    </tr>\n",
       "  </thead>\n",
       "  <tbody>\n",
       "    <tr>\n",
       "      <th>818</th>\n",
       "      <td>babacoin</td>\n",
       "      <td>bbc</td>\n",
       "      <td>Babacoin</td>\n",
       "    </tr>\n",
       "    <tr>\n",
       "      <th>899</th>\n",
       "      <td>bananaclubtoken</td>\n",
       "      <td>bct</td>\n",
       "      <td>BananaClubToken</td>\n",
       "    </tr>\n",
       "    <tr>\n",
       "      <th>900</th>\n",
       "      <td>banana-coin</td>\n",
       "      <td>banana</td>\n",
       "      <td>BananaCoin</td>\n",
       "    </tr>\n",
       "    <tr>\n",
       "      <th>910</th>\n",
       "      <td>bankercoin</td>\n",
       "      <td>$bank</td>\n",
       "      <td>Bankercoin</td>\n",
       "    </tr>\n",
       "    <tr>\n",
       "      <th>945</th>\n",
       "      <td>basketcoin</td>\n",
       "      <td>bskt</td>\n",
       "      <td>BasketCoin</td>\n",
       "    </tr>\n",
       "    <tr>\n",
       "      <th>...</th>\n",
       "      <td>...</td>\n",
       "      <td>...</td>\n",
       "      <td>...</td>\n",
       "    </tr>\n",
       "    <tr>\n",
       "      <th>1536</th>\n",
       "      <td>bytecoin</td>\n",
       "      <td>bcn</td>\n",
       "      <td>Bytecoin</td>\n",
       "    </tr>\n",
       "    <tr>\n",
       "      <th>1541</th>\n",
       "      <td>bzetcoin</td>\n",
       "      <td>bzet</td>\n",
       "      <td>BzetCoin</td>\n",
       "    </tr>\n",
       "    <tr>\n",
       "      <th>2792</th>\n",
       "      <td>dua-token</td>\n",
       "      <td>dua</td>\n",
       "      <td>Brillion</td>\n",
       "    </tr>\n",
       "    <tr>\n",
       "      <th>4614</th>\n",
       "      <td>kan</td>\n",
       "      <td>kan</td>\n",
       "      <td>BitKan</td>\n",
       "    </tr>\n",
       "    <tr>\n",
       "      <th>8726</th>\n",
       "      <td>title-network</td>\n",
       "      <td>tnet</td>\n",
       "      <td>Bitcoin Clashic</td>\n",
       "    </tr>\n",
       "  </tbody>\n",
       "</table>\n",
       "<p>89 rows x 3 columns</p>\n",
       "</div>"
      ],
      "text/plain": [
       "                   id  symbol             name\n",
       "818          babacoin     bbc         Babacoin\n",
       "899   bananaclubtoken     bct  BananaClubToken\n",
       "900       banana-coin  banana       BananaCoin\n",
       "910        bankercoin   $bank       Bankercoin\n",
       "945        basketcoin    bskt       BasketCoin\n",
       "...               ...     ...              ...\n",
       "1536         bytecoin     bcn         Bytecoin\n",
       "1541         bzetcoin    bzet         BzetCoin\n",
       "2792        dua-token     dua         Brillion\n",
       "4614              kan     kan           BitKan\n",
       "8726    title-network    tnet  Bitcoin Clashic\n",
       "\n",
       "[89 rows x 3 columns]"
      ]
     },
     "execution_count": 14,
     "metadata": {},
     "output_type": "execute_result"
    }
   ],
   "source": [
    "df_coins[df_coins['name'].str.match(r'\\b[bB][a-zA-Z]*n\\b')]"
   ]
  },
  {
   "cell_type": "code",
   "execution_count": 6,
   "metadata": {},
   "outputs": [],
   "source": [
    "# Lista de nombres de monedas para filtrar\n",
    "nombres_a_filtrar = ['Solana', 'Uniswap', 'Decentraland','Chiliz','Axie Infinity', 'The Sandbox', 'Cardano', 'Quant', 'Chainlink']\n",
    "\n",
    "# Filtrar el DataFrame utilizando la lista de nombres\n",
    "resultados = df_coins[df_coins['name'].isin(nombres_a_filtrar)]"
   ]
  },
  {
   "cell_type": "code",
   "execution_count": 7,
   "metadata": {},
   "outputs": [
    {
     "data": {
      "text/html": [
       "<div>\n",
       "<style scoped>\n",
       "    .dataframe tbody tr th:only-of-type {\n",
       "        vertical-align: middle;\n",
       "    }\n",
       "\n",
       "    .dataframe tbody tr th {\n",
       "        vertical-align: top;\n",
       "    }\n",
       "\n",
       "    .dataframe thead th {\n",
       "        text-align: right;\n",
       "    }\n",
       "</style>\n",
       "<table border=\"1\" class=\"dataframe\">\n",
       "  <thead>\n",
       "    <tr style=\"text-align: right;\">\n",
       "      <th></th>\n",
       "      <th>id</th>\n",
       "      <th>symbol</th>\n",
       "      <th>name</th>\n",
       "    </tr>\n",
       "  </thead>\n",
       "  <tbody>\n",
       "    <tr>\n",
       "      <th>800</th>\n",
       "      <td>axie-infinity</td>\n",
       "      <td>axs</td>\n",
       "      <td>Axie Infinity</td>\n",
       "    </tr>\n",
       "    <tr>\n",
       "      <th>1598</th>\n",
       "      <td>cardano</td>\n",
       "      <td>ada</td>\n",
       "      <td>Cardano</td>\n",
       "    </tr>\n",
       "    <tr>\n",
       "      <th>1713</th>\n",
       "      <td>chainlink</td>\n",
       "      <td>link</td>\n",
       "      <td>Chainlink</td>\n",
       "    </tr>\n",
       "    <tr>\n",
       "      <th>1783</th>\n",
       "      <td>chiliz</td>\n",
       "      <td>chz</td>\n",
       "      <td>Chiliz</td>\n",
       "    </tr>\n",
       "    <tr>\n",
       "      <th>2376</th>\n",
       "      <td>decentraland</td>\n",
       "      <td>mana</td>\n",
       "      <td>Decentraland</td>\n",
       "    </tr>\n",
       "    <tr>\n",
       "      <th>7131</th>\n",
       "      <td>quant-network</td>\n",
       "      <td>qnt</td>\n",
       "      <td>Quant</td>\n",
       "    </tr>\n",
       "    <tr>\n",
       "      <th>7955</th>\n",
       "      <td>solana</td>\n",
       "      <td>sol</td>\n",
       "      <td>Solana</td>\n",
       "    </tr>\n",
       "    <tr>\n",
       "      <th>8654</th>\n",
       "      <td>the-sandbox</td>\n",
       "      <td>sand</td>\n",
       "      <td>The Sandbox</td>\n",
       "    </tr>\n",
       "    <tr>\n",
       "      <th>9021</th>\n",
       "      <td>uniswap</td>\n",
       "      <td>uni</td>\n",
       "      <td>Uniswap</td>\n",
       "    </tr>\n",
       "    <tr>\n",
       "      <th>9158</th>\n",
       "      <td>vechain</td>\n",
       "      <td>vet</td>\n",
       "      <td>VeChain</td>\n",
       "    </tr>\n",
       "  </tbody>\n",
       "</table>\n",
       "</div>"
      ],
      "text/plain": [
       "                 id symbol           name\n",
       "800   axie-infinity    axs  Axie Infinity\n",
       "1598        cardano    ada        Cardano\n",
       "1713      chainlink   link      Chainlink\n",
       "1783         chiliz    chz         Chiliz\n",
       "2376   decentraland   mana   Decentraland\n",
       "7131  quant-network    qnt          Quant\n",
       "7955         solana    sol         Solana\n",
       "8654    the-sandbox   sand    The Sandbox\n",
       "9021        uniswap    uni        Uniswap\n",
       "9158        vechain    vet        VeChain"
      ]
     },
     "execution_count": 7,
     "metadata": {},
     "output_type": "execute_result"
    }
   ],
   "source": [
    "resultados"
   ]
  }
 ],
 "metadata": {
  "kernelspec": {
   "display_name": "Python 3",
   "language": "python",
   "name": "python3"
  },
  "language_info": {
   "codemirror_mode": {
    "name": "ipython",
    "version": 3
   },
   "file_extension": ".py",
   "mimetype": "text/x-python",
   "name": "python",
   "nbconvert_exporter": "python",
   "pygments_lexer": "ipython3",
   "version": "3.11.3"
  },
  "orig_nbformat": 4
 },
 "nbformat": 4,
 "nbformat_minor": 2
}
